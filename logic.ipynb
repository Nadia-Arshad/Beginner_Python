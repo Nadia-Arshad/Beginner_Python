{
 "cells": [
  {
   "cell_type": "markdown",
   "metadata": {},
   "source": [
    "Boolean Data Type:"
   ]
  },
  {
   "cell_type": "code",
   "execution_count": 1,
   "metadata": {},
   "outputs": [
    {
     "name": "stdout",
     "output_type": "stream",
     "text": [
      "True\n"
     ]
    }
   ],
   "source": [
    "#Comparison Operators:\n",
    "age = 55\n",
    "print(age > 19)"
   ]
  },
  {
   "cell_type": "code",
   "execution_count": 4,
   "metadata": {},
   "outputs": [
    {
     "name": "stdout",
     "output_type": "stream",
     "text": [
      "You can now apply for the card.\n"
     ]
    }
   ],
   "source": [
    "#Identification Card Holder\n",
    "age = int(input(\"What is your age? \"))\n",
    "id_holder = age > 18\n",
    "if id_holder == False:\n",
    "    print(\"No, underage!\")\n",
    "else:\n",
    "    print(\"You can now apply for the card.\")"
   ]
  },
  {
   "cell_type": "code",
   "execution_count": 8,
   "metadata": {},
   "outputs": [
    {
     "name": "stdout",
     "output_type": "stream",
     "text": [
      "You get a special discount for our wonderful club membership!\n",
      "Thank you for using our app! : ) \n"
     ]
    }
   ],
   "source": [
    "#Small app for accessing membership of a club\n",
    "age = int(input(\"What is your age? \"))\n",
    "if age < 19:\n",
    "    print(\"You don't qualify, come back when you are 18.\")\n",
    "elif 19 < age < 50:\n",
    "    print(\"Welcome to the club!\")\n",
    "else:\n",
    "    print(\"You get a special discount for our wonderful club membership!\")\n",
    "print(\"Thank you for using our app! : ) \")\n"
   ]
  },
  {
   "cell_type": "code",
   "execution_count": 11,
   "metadata": {},
   "outputs": [
    {
     "name": "stdout",
     "output_type": "stream",
     "text": [
      "Order something to eat!\n"
     ]
    }
   ],
   "source": [
    "hungry = True\n",
    "\n",
    "if hungry:\n",
    "    print(\"Order something to eat!\")\n",
    "else:\n",
    "    print(\":(\")"
   ]
  },
  {
   "cell_type": "markdown",
   "metadata": {},
   "source": [
    "And and Or Operators:"
   ]
  },
  {
   "cell_type": "code",
   "execution_count": 16,
   "metadata": {},
   "outputs": [
    {
     "name": "stdout",
     "output_type": "stream",
     "text": [
      "Sorry, you need to apply for your country.\n"
     ]
    }
   ],
   "source": [
    "age = int(input(\"What is your age? \"))\n",
    "nationality = input(\"What is your nationality? \")\n",
    "\n",
    "if age > 18 and nationality == \"Pakistani\":\n",
    "    print(\"Hay, there you are eligible for Pakistani id document.\")\n",
    "else:\n",
    "    print(\"Sorry, you need to apply for your country.\")\n"
   ]
  },
  {
   "cell_type": "code",
   "execution_count": 19,
   "metadata": {},
   "outputs": [
    {
     "name": "stdout",
     "output_type": "stream",
     "text": [
      "You don't quality!\n"
     ]
    }
   ],
   "source": [
    "behave = False\n",
    "age = int(input(\"What is your age? \"))\n",
    "if 15 > age > 3 or behave == True:\n",
    "    print(\"You can play with Lego.\")\n",
    "else: \n",
    "    print(\"You don't quality!\")\n"
   ]
  },
  {
   "cell_type": "markdown",
   "metadata": {},
   "source": [
    "Not Operator:"
   ]
  },
  {
   "cell_type": "code",
   "execution_count": 23,
   "metadata": {},
   "outputs": [
    {
     "name": "stdout",
     "output_type": "stream",
     "text": [
      "Redirecting you to the subscription page!\n"
     ]
    }
   ],
   "source": [
    "subscribed = False\n",
    "\n",
    "if not subscribed:\n",
    "    print(\"Redirecting you to the subscription page!\")\n",
    "else:\n",
    "    print(\"Wow, you are a subscriber!\")"
   ]
  },
  {
   "cell_type": "markdown",
   "metadata": {},
   "source": [
    "Control Flow : \n",
    "Things to remember \n",
    "happy = False is same as not happy \n",
    "pool_heated = False is same as not pool_heated  "
   ]
  },
  {
   "cell_type": "code",
   "execution_count": 29,
   "metadata": {},
   "outputs": [
    {
     "name": "stdout",
     "output_type": "stream",
     "text": [
      "Don't go for swimming\n"
     ]
    }
   ],
   "source": [
    "temp_outside = 60\n",
    "pool_heated = False\n",
    "\n",
    "if temp_outside < 50 or not pool_heated:\n",
    "    print(\"Don't go for swimming\")"
   ]
  },
  {
   "cell_type": "markdown",
   "metadata": {},
   "source": []
  },
  {
   "cell_type": "code",
   "execution_count": null,
   "metadata": {},
   "outputs": [],
   "source": []
  }
 ],
 "metadata": {
  "kernelspec": {
   "display_name": "Python 3",
   "language": "python",
   "name": "python3"
  },
  "language_info": {
   "codemirror_mode": {
    "name": "ipython",
    "version": 3
   },
   "file_extension": ".py",
   "mimetype": "text/x-python",
   "name": "python",
   "nbconvert_exporter": "python",
   "pygments_lexer": "ipython3",
   "version": "3.11.9"
  }
 },
 "nbformat": 4,
 "nbformat_minor": 2
}
