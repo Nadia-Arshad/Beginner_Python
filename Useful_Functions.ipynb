{
 "cells": [
  {
   "cell_type": "markdown",
   "metadata": {},
   "source": [
    "length function"
   ]
  },
  {
   "cell_type": "code",
   "execution_count": 2,
   "metadata": {},
   "outputs": [
    {
     "name": "stdout",
     "output_type": "stream",
     "text": [
      "17\n",
      "!\n",
      "!\n"
     ]
    }
   ],
   "source": [
    "welcome = \"Welcome to Hawaii!\"\n",
    "print(len(welcome) - 1)   #Number of characters - 1 = last index number\n",
    "\n",
    "print(welcome[17])\n",
    "print(welcome[-1])"
   ]
  },
  {
   "cell_type": "markdown",
   "metadata": {},
   "source": [
    "To print that index number:"
   ]
  },
  {
   "cell_type": "code",
   "execution_count": 3,
   "metadata": {},
   "outputs": [
    {
     "name": "stdout",
     "output_type": "stream",
     "text": [
      "My friend is 18 years old!\n"
     ]
    }
   ],
   "source": [
    "print(f\"My friend is {len(welcome)} years old!\")"
   ]
  },
  {
   "cell_type": "markdown",
   "metadata": {},
   "source": [
    "How nested function calls work:"
   ]
  },
  {
   "cell_type": "code",
   "execution_count": 4,
   "metadata": {},
   "outputs": [
    {
     "name": "stdout",
     "output_type": "stream",
     "text": [
      "13\n"
     ]
    }
   ],
   "source": [
    "import math\n",
    "print(len(str(id(str(welcome))+ math.floor(2.6))))   #The inner most function is called the first and then the outer and then outer finally the outer most. "
   ]
  },
  {
   "cell_type": "code",
   "execution_count": 7,
   "metadata": {},
   "outputs": [
    {
     "name": "stdout",
     "output_type": "stream",
     "text": [
      "1516011528288\n",
      "1516011528290\n",
      "13\n"
     ]
    }
   ],
   "source": [
    "#Step by step representation of the nested functions called in the previous cell.\n",
    "welcome_str = str(welcome)\n",
    "id_welcome_str = id(welcome_str)\n",
    "print(id_welcome_str)\n",
    "other = math.floor(2.6)\n",
    "added = id_welcome_str + other\n",
    "print(added)\n",
    "added_str = str(added)\n",
    "length = len(added_str)\n",
    "print(length)\n"
   ]
  },
  {
   "cell_type": "markdown",
   "metadata": {},
   "source": []
  },
  {
   "cell_type": "code",
   "execution_count": 8,
   "metadata": {},
   "outputs": [
    {
     "name": "stdout",
     "output_type": "stream",
     "text": [
      "4\n"
     ]
    }
   ],
   "source": [
    "my_todo_list =  [\"cleaning\", \"exercise\", \"walking\" , [\"programming\", \"math\", \"calculus\"]]\n",
    "print(len(my_todo_list))"
   ]
  },
  {
   "cell_type": "code",
   "execution_count": 9,
   "metadata": {},
   "outputs": [
    {
     "name": "stdout",
     "output_type": "stream",
     "text": [
      "['programming', 'math', 'calculus']\n"
     ]
    }
   ],
   "source": [
    "print(my_todo_list[3])"
   ]
  },
  {
   "cell_type": "code",
   "execution_count": 10,
   "metadata": {},
   "outputs": [
    {
     "name": "stdout",
     "output_type": "stream",
     "text": [
      "calculus\n"
     ]
    }
   ],
   "source": [
    "print(my_todo_list[3][2])"
   ]
  },
  {
   "cell_type": "code",
   "execution_count": 12,
   "metadata": {},
   "outputs": [
    {
     "name": "stdout",
     "output_type": "stream",
     "text": [
      "cranberry\n"
     ]
    }
   ],
   "source": [
    "fruits = [\"watermelon\", \"mango\", \"grapes\", [\"strawberry\", \"raspberry\", \"blueberry\", [\"cranberry\", \"blackberry\"]]]\n",
    "print(fruits[3][3][0])"
   ]
  },
  {
   "cell_type": "markdown",
   "metadata": {},
   "source": [
    "Copy a list with .copy() method"
   ]
  },
  {
   "cell_type": "code",
   "execution_count": 13,
   "metadata": {},
   "outputs": [
    {
     "name": "stdout",
     "output_type": "stream",
     "text": [
      "1516012551424\n",
      "1516018037312\n"
     ]
    }
   ],
   "source": [
    "fruits_copy = fruits.copy()\n",
    "print(id(fruits))\n",
    "print(id(fruits_copy))"
   ]
  },
  {
   "cell_type": "markdown",
   "metadata": {},
   "source": [
    "Combining Lists"
   ]
  },
  {
   "cell_type": "code",
   "execution_count": 16,
   "metadata": {},
   "outputs": [
    {
     "name": "stdout",
     "output_type": "stream",
     "text": [
      "['cleaning', 'exercise', 'walking', ['programming', 'math', 'calculus'], 'watermelon', 'mango', 'grapes', ['strawberry', 'raspberry', 'blueberry', ['cranberry', 'blackberry']], 'watermelon', 'mango', 'grapes', ['strawberry', 'raspberry', 'blueberry', ['cranberry', 'blackberry']]]\n"
     ]
    }
   ],
   "source": [
    "combined_lists = my_todo_list + fruits + fruits_copy\n",
    "print(combined_lists)\n"
   ]
  },
  {
   "cell_type": "markdown",
   "metadata": {},
   "source": [
    "Adding things to the list:"
   ]
  },
  {
   "cell_type": "code",
   "execution_count": 18,
   "metadata": {},
   "outputs": [
    {
     "name": "stdout",
     "output_type": "stream",
     "text": [
      "['cleaning', 'exercise', 'walking', ['programming', 'math', 'calculus'], 'gardening']\n"
     ]
    }
   ],
   "source": [
    "my_todo_list_updated = my_todo_list + [\"gardening\"]\n",
    "print(my_todo_list_updated) "
   ]
  },
  {
   "cell_type": "code",
   "execution_count": 23,
   "metadata": {},
   "outputs": [
    {
     "name": "stdout",
     "output_type": "stream",
     "text": [
      "['cleaning', 'washing', 'cooking', 'baking']\n"
     ]
    }
   ],
   "source": [
    "\n",
    "my_to_do_list = [\"cleaning\", \"washing\",\"cooking\"]\n",
    "my_to_do_list.append(\"baking\")\n",
    "print(my_to_do_list)\n",
    "\n"
   ]
  },
  {
   "cell_type": "markdown",
   "metadata": {},
   "source": [
    "Input Function:"
   ]
  },
  {
   "cell_type": "code",
   "execution_count": 24,
   "metadata": {},
   "outputs": [
    {
     "name": "stdout",
     "output_type": "stream",
     "text": [
      "78\n"
     ]
    }
   ],
   "source": [
    "#Simply input function without defining the type, python handling numbers as strings.\n",
    "number_1 = input(\"Write your favorite number: \")\n",
    "number_2= input(\"Write your second favorite number: \")\n",
    "print(number_1 + number_2)"
   ]
  },
  {
   "cell_type": "code",
   "execution_count": 25,
   "metadata": {},
   "outputs": [
    {
     "name": "stdout",
     "output_type": "stream",
     "text": [
      "15\n"
     ]
    }
   ],
   "source": [
    "#Now we defined the type and here we have our operation performed correctly.\n",
    "number_1 = int(input(\"Write your favorite number: \"))\n",
    "number_2= int(input(\"Write your second favorite number: \"))\n",
    "print(number_1 + number_2)"
   ]
  },
  {
   "cell_type": "code",
   "execution_count": null,
   "metadata": {},
   "outputs": [],
   "source": []
  }
 ],
 "metadata": {
  "kernelspec": {
   "display_name": "Python 3",
   "language": "python",
   "name": "python3"
  },
  "language_info": {
   "codemirror_mode": {
    "name": "ipython",
    "version": 3
   },
   "file_extension": ".py",
   "mimetype": "text/x-python",
   "name": "python",
   "nbconvert_exporter": "python",
   "pygments_lexer": "ipython3",
   "version": "3.11.9"
  }
 },
 "nbformat": 4,
 "nbformat_minor": 2
}
