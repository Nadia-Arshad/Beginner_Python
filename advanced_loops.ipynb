{
 "cells": [
  {
   "cell_type": "markdown",
   "id": "b3e90280",
   "metadata": {},
   "source": [
    "While Loop with if Conditions:\n"
   ]
  },
  {
   "cell_type": "code",
   "execution_count": 2,
   "id": "f3f39d53",
   "metadata": {},
   "outputs": [
    {
     "name": "stdout",
     "output_type": "stream",
     "text": [
      "4 5 7 2 34 56 9 "
     ]
    }
   ],
   "source": [
    "numb_list : list [int] = [4, 5, 7, 2, 34, 56, 9]\n",
    "i = 0\n",
    "while i < len(numb_list):\n",
    "    print(numb_list[i], end=\" \")\n",
    "    i += 1\n"
   ]
  },
  {
   "cell_type": "code",
   "execution_count": null,
   "id": "75555098",
   "metadata": {},
   "outputs": [
    {
     "name": "stdout",
     "output_type": "stream",
     "text": [
      "34 squared is larger than 500\n"
     ]
    }
   ],
   "source": [
    "square = 500\n",
    "i = 0\n",
    "while i < len(numb_list):\n",
    "    if numb_list[i] ** 2 > square:\n",
    "        print(f\"{numb_list[i]} squared is larger than {square}\")\n",
    "        break\n",
    "    i += 1"
   ]
  },
  {
   "cell_type": "code",
   "execution_count": 5,
   "id": "686a235d",
   "metadata": {},
   "outputs": [
    {
     "name": "stdout",
     "output_type": "stream",
     "text": [
      "4 squared is smaller than 500\n",
      "5 squared is smaller than 500\n",
      "7 squared is smaller than 500\n",
      "2 squared is smaller than 500\n",
      "34 square is larger than 500\n"
     ]
    }
   ],
   "source": [
    "#if use else, it will run the loop for everyone and show the results:\n",
    "square = 500\n",
    "i = 0\n",
    "while i < len(numb_list):\n",
    "    if numb_list[i] **2 > square:\n",
    "        print(f\"{numb_list[i]} square is larger than {square}\")\n",
    "        break\n",
    "    else:\n",
    "        print(f\"{numb_list[i]} squared is smaller than {square}\")\n",
    "    i += 1"
   ]
  },
  {
   "cell_type": "markdown",
   "id": "0494fbd4",
   "metadata": {},
   "source": [
    "Flag Variables:"
   ]
  },
  {
   "cell_type": "code",
   "execution_count": 6,
   "id": "44107ab0",
   "metadata": {},
   "outputs": [
    {
     "name": "stdout",
     "output_type": "stream",
     "text": [
      "4 squared is larger than 500\n",
      "None were larger enough!\n",
      "5 squared is larger than 500\n",
      "None were larger enough!\n",
      "7 squared is larger than 500\n",
      "None were larger enough!\n",
      "2 squared is larger than 500\n",
      "None were larger enough!\n",
      "34 squared is larger than 500\n"
     ]
    }
   ],
   "source": [
    "i = 0\n",
    "success = False\n",
    "while i < len(numb_list):\n",
    "    if numb_list[i] ** 2 > square:\n",
    "        print(f\"{numb_list[i]} squared is larger than {square}\")\n",
    "        success = True\n",
    "        break\n",
    "    print(f\"{numb_list[i]} squared is larger than {square}\")\n",
    "    i += 1 \n",
    "\n",
    "    if not success:\n",
    "        print(\"None were larger enough!\")\n",
    "\n"
   ]
  },
  {
   "cell_type": "code",
   "execution_count": null,
   "id": "9369ee82",
   "metadata": {},
   "outputs": [],
   "source": []
  }
 ],
 "metadata": {
  "kernelspec": {
   "display_name": "Python 3",
   "language": "python",
   "name": "python3"
  },
  "language_info": {
   "codemirror_mode": {
    "name": "ipython",
    "version": 3
   },
   "file_extension": ".py",
   "mimetype": "text/x-python",
   "name": "python",
   "nbconvert_exporter": "python",
   "pygments_lexer": "ipython3",
   "version": "3.11.9"
  }
 },
 "nbformat": 4,
 "nbformat_minor": 5
}
