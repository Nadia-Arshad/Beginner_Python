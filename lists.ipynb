{
 "cells": [
  {
   "cell_type": "markdown",
   "metadata": {},
   "source": [
    "Just Lists:"
   ]
  },
  {
   "cell_type": "code",
   "execution_count": 1,
   "metadata": {},
   "outputs": [
    {
     "name": "stdout",
     "output_type": "stream",
     "text": [
      "[3011, 2345, 5674, 7654, 9800, 7645]\n",
      "['Nadia', 'Florence', 'Georgie', 'Anna']\n",
      "['Eating', 3, ['Simpsons', 'The Mask', 'Scoobydoo']]\n"
     ]
    }
   ],
   "source": [
    "#List can hold more than one value \n",
    "\n",
    "#List of numbers:\n",
    "ids = [3011, 2345, 5674, 7654, 9800, 7645]\n",
    "\n",
    "#List of strings:\n",
    "names = [\"Nadia\", \"Florence\", \"Georgie\", \"Anna\"]\n",
    "\n",
    "#Lists with numbers, strings and lists ;)\n",
    "my_favorite_things = [\"Eating\", 3, [\"Simpsons\", \"The Mask\", \"Scoobydoo\"]]\n",
    "\n",
    "\n",
    "#We can print an entire list by using the list name\n",
    "print(ids)\n",
    "print(names)\n",
    "print(my_favorite_things)\n"
   ]
  },
  {
   "cell_type": "markdown",
   "metadata": {},
   "source": [
    "Indexing: "
   ]
  },
  {
   "cell_type": "code",
   "execution_count": 2,
   "metadata": {},
   "outputs": [
    {
     "name": "stdout",
     "output_type": "stream",
     "text": [
      "5674\n",
      "['Simpsons', 'The Mask', 'Scoobydoo']\n"
     ]
    }
   ],
   "source": [
    "#Indexes in python start from 0\n",
    "\n",
    "print(ids[2]) #grab 3rd element.\n",
    "#remember, these are zero based! The first element is index 0.\n",
    "\n",
    "#Indexing can also return a list (doesn't modify original list)\n",
    "print(my_favorite_things[2]) "
   ]
  },
  {
   "cell_type": "markdown",
   "metadata": {},
   "source": [
    "Updating lists:"
   ]
  },
  {
   "cell_type": "code",
   "execution_count": 4,
   "metadata": {},
   "outputs": [
    {
     "name": "stdout",
     "output_type": "stream",
     "text": [
      "['Nadia', 'Florence', 'Georgie', 'Evan']\n",
      "[3011, 2345, 5674, 7654, 10, 7645]\n",
      "['Eating', 7, ['Simpsons', 'The Mask', 'Scoobydoo']]\n"
     ]
    }
   ],
   "source": [
    "names[3] = \"Evan\"\n",
    "ids[4] = 10\n",
    "my_favorite_things[1] = 7\n",
    "print(names)\n",
    "print(ids) \n",
    "print(my_favorite_things)#Updated!\n"
   ]
  },
  {
   "cell_type": "markdown",
   "metadata": {},
   "source": [
    "Slicing:"
   ]
  },
  {
   "cell_type": "code",
   "execution_count": 7,
   "metadata": {},
   "outputs": [
    {
     "name": "stdout",
     "output_type": "stream",
     "text": [
      "[6, 45, 84, 90, 63, 78]\n",
      "[3011, 6, 45, 84, 90, 63, 78]\n"
     ]
    }
   ],
   "source": [
    "print(ids[1:])\n",
    "\n",
    "\n",
    "#Since lists are mutable, can we combine slicing with updating data?\n",
    "\n",
    "ids[1:] = [6, 45, 84, 90, 63, 78]\n",
    "print(ids) \n",
    " "
   ]
  },
  {
   "cell_type": "markdown",
   "metadata": {},
   "source": [
    "Copying Lists:\n"
   ]
  },
  {
   "cell_type": "code",
   "execution_count": 9,
   "metadata": {},
   "outputs": [
    {
     "name": "stdout",
     "output_type": "stream",
     "text": [
      "1581255171264\n",
      "1581255171264\n"
     ]
    }
   ],
   "source": [
    "#Is it a copy?\n",
    "names = [\"Nadia\", \"Evan\", \"Florence\", \"Anna\"]\n",
    "names_1 =  names\n",
    "\n",
    "print(id(names))\n",
    "print(id(names_1))\n"
   ]
  },
  {
   "cell_type": "code",
   "execution_count": 10,
   "metadata": {},
   "outputs": [
    {
     "name": "stdout",
     "output_type": "stream",
     "text": [
      "['Andrea', 'Evan', 'Florence', 'Anna']\n"
     ]
    }
   ],
   "source": [
    "#The problem here is that they both point to the same list in memory.\n",
    "#Changes in one are visible in the other \n",
    "names[0] = \"Andrea\" #Change to names\n",
    "print(names)\n",
    "\n"
   ]
  },
  {
   "cell_type": "code",
   "execution_count": 11,
   "metadata": {},
   "outputs": [
    {
     "name": "stdout",
     "output_type": "stream",
     "text": [
      "['Andrea', 'Evan', 'Florence', 'Anna']\n"
     ]
    }
   ],
   "source": [
    "print(names_1) #names_1 also got changed"
   ]
  },
  {
   "cell_type": "markdown",
   "metadata": {},
   "source": [
    "Copying: "
   ]
  },
  {
   "cell_type": "code",
   "execution_count": 12,
   "metadata": {},
   "outputs": [],
   "source": [
    "#Here is how to copy:\n",
    "names = [\"Andrea\", \"Evan\", \"Florence\", \"Anna\"]\n",
    "names_1 = names[:]"
   ]
  },
  {
   "cell_type": "code",
   "execution_count": 16,
   "metadata": {},
   "outputs": [
    {
     "name": "stdout",
     "output_type": "stream",
     "text": [
      "['Andrea', 'Evan', 'Florence', 'Bee']\n",
      "['Andrea', 'Evan', 'Florence', 'Anna']\n",
      "1581261026048\n",
      "1581261260096\n"
     ]
    }
   ],
   "source": [
    "names [3] = \"Bee\"\n",
    "print(names)\n",
    "print(names_1)\n",
    "\n",
    "print(id(names))\n",
    "print(id(names_1))\n",
    "\n",
    "#Now they both are pointing towards different memory locations, One is original and other is a copy. Their ids are also different. "
   ]
  },
  {
   "cell_type": "markdown",
   "metadata": {},
   "source": [
    ".copy method:"
   ]
  },
  {
   "cell_type": "code",
   "execution_count": 19,
   "metadata": {},
   "outputs": [
    {
     "name": "stdout",
     "output_type": "stream",
     "text": [
      "['Nadia', 'Andrea', 'Florence', 'Anna']\n",
      "['Madiiii', 'Andrea', 'Florence', 'Anna']\n"
     ]
    }
   ],
   "source": [
    "#another Option is to use a method on the list...copy()\n",
    "names1 = [\"Nadia\", \"Andrea\", \"Florence\", \"Anna\"]\n",
    "names2 = names1.copy()\n",
    "names2[0] = \"Madiiii\"\n",
    "print(names1) \n",
    "print(names2)"
   ]
  },
  {
   "cell_type": "markdown",
   "metadata": {},
   "source": [
    "So remember to copy we use either slicing or .copy method"
   ]
  },
  {
   "cell_type": "code",
   "execution_count": null,
   "metadata": {},
   "outputs": [],
   "source": []
  }
 ],
 "metadata": {
  "kernelspec": {
   "display_name": "Python 3",
   "language": "python",
   "name": "python3"
  },
  "language_info": {
   "codemirror_mode": {
    "name": "ipython",
    "version": 3
   },
   "file_extension": ".py",
   "mimetype": "text/x-python",
   "name": "python",
   "nbconvert_exporter": "python",
   "pygments_lexer": "ipython3",
   "version": "3.11.9"
  }
 },
 "nbformat": 4,
 "nbformat_minor": 2
}
