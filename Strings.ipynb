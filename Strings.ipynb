{
 "cells": [
  {
   "cell_type": "markdown",
   "metadata": {},
   "source": [
    "Strings: end=\"\""
   ]
  },
  {
   "cell_type": "code",
   "execution_count": 15,
   "metadata": {},
   "outputs": [
    {
     "name": "stdout",
     "output_type": "stream",
     "text": [
      "Nadia Arshad\n"
     ]
    }
   ],
   "source": [
    "my_name = \"Nadia\"\n",
    "\n",
    "print(my_name, end=\" \")\n",
    "print(\"Arshad\")\n"
   ]
  },
  {
   "cell_type": "markdown",
   "metadata": {},
   "source": [
    "Tabs and Line Breaks: "
   ]
  },
  {
   "cell_type": "code",
   "execution_count": 10,
   "metadata": {},
   "outputs": [
    {
     "name": "stdout",
     "output_type": "stream",
     "text": [
      "\n",
      "N\ta\td\ti\ta\n",
      "\n"
     ]
    }
   ],
   "source": [
    "me = \"\\nN\\ta\\td\\ti\\ta\\n\"\n",
    "print(me)"
   ]
  },
  {
   "cell_type": "markdown",
   "metadata": {},
   "source": [
    "Quotation Marks: '\"\"', \\\" \\\", \\'"
   ]
  },
  {
   "cell_type": "code",
   "execution_count": 11,
   "metadata": {},
   "outputs": [
    {
     "name": "stdout",
     "output_type": "stream",
     "text": [
      "They say \"Hi\"\n",
      "They say \"Hi\"\n",
      "I'm learning!\n",
      "I'm learning!\n"
     ]
    }
   ],
   "source": [
    "single_quotes = 'They say \"Hi\"'\n",
    "print(single_quotes)\n",
    "\n",
    "double_quotes = \"They say \\\"Hi\\\"\"\n",
    "print(double_quotes)\n",
    "\n",
    "single_quotes = 'I\\'m learning!'\n",
    "print(single_quotes)\n",
    "\n",
    "double_quotes = \"I'm learning!\"\n",
    "print(double_quotes)"
   ]
  },
  {
   "cell_type": "markdown",
   "metadata": {},
   "source": [
    "Multiline Strings:"
   ]
  },
  {
   "cell_type": "code",
   "execution_count": 19,
   "metadata": {},
   "outputs": [
    {
     "name": "stdout",
     "output_type": "stream",
     "text": [
      "Halo, \n",
      "Mi nombre es\n",
      "Nadia\n",
      ".\n"
     ]
    }
   ],
   "source": [
    "print(\"\"\"Halo, \n",
    "Mi nombre es\n",
    "Nadia\n",
    ".\"\"\")"
   ]
  },
  {
   "cell_type": "markdown",
   "metadata": {},
   "source": [
    "Grab a Letter:"
   ]
  },
  {
   "cell_type": "code",
   "execution_count": 23,
   "metadata": {},
   "outputs": [
    {
     "name": "stdout",
     "output_type": "stream",
     "text": [
      "ice-creme\n"
     ]
    }
   ],
   "source": [
    "msg = \"This is a very important message.\"\n",
    "print(f\"{msg[5]}ce-creme\") "
   ]
  },
  {
   "cell_type": "markdown",
   "metadata": {},
   "source": [
    "Grab the last letter:"
   ]
  },
  {
   "cell_type": "code",
   "execution_count": 33,
   "metadata": {},
   "outputs": [
    {
     "name": "stdout",
     "output_type": "stream",
     "text": [
      "y\n"
     ]
    }
   ],
   "source": [
    "msg = \"I am calling sick today\"\n",
    "print(msg[-1])"
   ]
  },
  {
   "cell_type": "code",
   "execution_count": 38,
   "metadata": {},
   "outputs": [
    {
     "name": "stdout",
     "output_type": "stream",
     "text": [
      "ll ia;sldfj\n"
     ]
    }
   ],
   "source": [
    "msg = \"All is well!\"\n",
    "print(f\"{msg[1:5]}a;sldfj\")"
   ]
  },
  {
   "cell_type": "markdown",
   "metadata": {},
   "source": [
    "Modifications:"
   ]
  },
  {
   "cell_type": "code",
   "execution_count": 42,
   "metadata": {},
   "outputs": [
    {
     "name": "stdout",
     "output_type": "stream",
     "text": [
      "Bun is my favorite\n"
     ]
    }
   ],
   "source": [
    "msg = \"Sun is my favorite\"\n",
    "new_msg = \"B\" + msg[1:]    #You will start from 1 bcz at 0 we have S. \n",
    "print(new_msg)"
   ]
  },
  {
   "cell_type": "code",
   "execution_count": null,
   "metadata": {},
   "outputs": [],
   "source": []
  }
 ],
 "metadata": {
  "kernelspec": {
   "display_name": "Python 3",
   "language": "python",
   "name": "python3"
  },
  "language_info": {
   "codemirror_mode": {
    "name": "ipython",
    "version": 3
   },
   "file_extension": ".py",
   "mimetype": "text/x-python",
   "name": "python",
   "nbconvert_exporter": "python",
   "pygments_lexer": "ipython3",
   "version": "3.11.9"
  }
 },
 "nbformat": 4,
 "nbformat_minor": 2
}
