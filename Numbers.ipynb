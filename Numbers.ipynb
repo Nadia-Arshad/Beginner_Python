{
  "nbformat": 4,
  "nbformat_minor": 0,
  "metadata": {
    "colab": {
      "provenance": []
    },
    "kernelspec": {
      "name": "python3",
      "display_name": "Python 3"
    },
    "language_info": {
      "name": "python"
    }
  },
  "cells": [
    {
      "cell_type": "markdown",
      "source": [
        "Numbers:\n"
      ],
      "metadata": {
        "id": "eSflaPbwVDo2"
      }
    },
    {
      "cell_type": "code",
      "source": [
        "Number = 8\n",
        "Number_1 : int = 8\n",
        "Number_2 : int = 74\n",
        "\n",
        "\n",
        "Result : int = Number_2 / Number_1\n",
        "print(Result)"
      ],
      "metadata": {
        "colab": {
          "base_uri": "https://localhost:8080/"
        },
        "id": "nfGKOuXDVHHa",
        "outputId": "3e876443-2323-4c14-98e4-53c9f2723f6f"
      },
      "execution_count": 3,
      "outputs": [
        {
          "output_type": "stream",
          "name": "stdout",
          "text": [
            "9.25\n"
          ]
        }
      ]
    },
    {
      "cell_type": "markdown",
      "source": [
        "Eliminate decimal with //"
      ],
      "metadata": {
        "id": "U10cQeTsWQBx"
      }
    },
    {
      "cell_type": "code",
      "source": [
        "Number_1 : int = 8\n",
        "Number_2 : int = 74\n",
        "\n",
        "\n",
        "Result : int = Number_2 // Number_1\n",
        "print(Result)"
      ],
      "metadata": {
        "colab": {
          "base_uri": "https://localhost:8080/"
        },
        "id": "2It5ihuKVchi",
        "outputId": "e06dd474-f660-4b56-f68b-c2dfac596140"
      },
      "execution_count": 10,
      "outputs": [
        {
          "output_type": "stream",
          "name": "stdout",
          "text": [
            "9\n"
          ]
        }
      ]
    },
    {
      "cell_type": "markdown",
      "source": [
        "Eliminate Decimal with round()"
      ],
      "metadata": {
        "id": "eu5PxlL4WX38"
      }
    },
    {
      "cell_type": "code",
      "source": [
        "Number_1 : int = 8\n",
        "Number_2 : int = 74\n",
        "\n",
        "\n",
        "Result : int = round(Number_2 / Number_1)\n",
        "print(Result)"
      ],
      "metadata": {
        "colab": {
          "base_uri": "https://localhost:8080/"
        },
        "id": "iFYxQjxaVpcM",
        "outputId": "701b6041-e70c-4c1f-8a91-8abc4475a2a9"
      },
      "execution_count": 11,
      "outputs": [
        {
          "output_type": "stream",
          "name": "stdout",
          "text": [
            "9\n"
          ]
        }
      ]
    },
    {
      "cell_type": "markdown",
      "source": [
        "Remainder"
      ],
      "metadata": {
        "id": "cfclWBXtWtU8"
      }
    },
    {
      "cell_type": "code",
      "source": [
        "Number_1 : int = 8\n",
        "Number_2 : int = 74\n",
        "\n",
        "\n",
        "Result : int = Number_2 % Number_1\n",
        "print(Result)"
      ],
      "metadata": {
        "colab": {
          "base_uri": "https://localhost:8080/"
        },
        "id": "BtVrS1m9WeYS",
        "outputId": "ba96e2a3-61eb-41dd-fa9d-28665cde72ce"
      },
      "execution_count": 12,
      "outputs": [
        {
          "output_type": "stream",
          "name": "stdout",
          "text": [
            "2\n"
          ]
        }
      ]
    },
    {
      "cell_type": "code",
      "source": [],
      "metadata": {
        "id": "02usM4YXWyhM"
      },
      "execution_count": null,
      "outputs": []
    }
  ]
}